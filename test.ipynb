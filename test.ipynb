{
 "metadata": {
  "language_info": {
   "codemirror_mode": {
    "name": "ipython",
    "version": 3
   },
   "file_extension": ".py",
   "mimetype": "text/x-python",
   "name": "python",
   "nbconvert_exporter": "python",
   "pygments_lexer": "ipython3",
   "version": "3.8.2-final"
  },
  "orig_nbformat": 2,
  "kernelspec": {
   "name": "python3",
   "display_name": "Python 3",
   "language": "python"
  }
 },
 "nbformat": 4,
 "nbformat_minor": 2,
 "cells": [
  {
   "source": [
    "# 1. Debugging"
   ],
   "cell_type": "markdown",
   "metadata": {}
  },
  {
   "cell_type": "code",
   "execution_count": 1,
   "metadata": {},
   "outputs": [],
   "source": [
    "def increment_dictionary_values(d, i):\n",
    "    \"\"\"\n",
    "    Increment by i each entry of the dictionary d.\n",
    "    Note: working w/ a copy and not reference;no inplace operation\n",
    "    \"\"\"\n",
    "    res = {}\n",
    "    for k, v in d.items():\n",
    "        res[k] = v + i \n",
    "    return res"
   ]
  },
  {
   "cell_type": "code",
   "execution_count": 2,
   "metadata": {},
   "outputs": [
    {
     "output_type": "stream",
     "name": "stderr",
     "text": [
      "test_increment_dictionary_values (__main__.TestIncrementDictionaryValues) ... ok\n",
      "\n",
      "----------------------------------------------------------------------\n",
      "Ran 1 test in 0.010s\n",
      "\n",
      "OK\n"
     ]
    },
    {
     "output_type": "execute_result",
     "data": {
      "text/plain": [
       "<unittest.runner.TextTestResult run=1 errors=0 failures=0>"
      ]
     },
     "metadata": {},
     "execution_count": 2
    }
   ],
   "source": [
    "import unittest\n",
    "\n",
    "class TestIncrementDictionaryValues(unittest.TestCase):\n",
    "    def test_increment_dictionary_values(self):\n",
    "        d = {'a': 1}\n",
    "        dd = increment_dictionary_values(d, 1)\n",
    "        ddd = increment_dictionary_values(d, -1)\n",
    "        self.assertEqual(dd['a'], 2)\n",
    "        self.assertEqual(ddd['a'], 0)\n",
    "\n",
    "suite = unittest.TestLoader().loadTestsFromTestCase(TestIncrementDictionaryValues)\n",
    "runner = unittest.TextTestRunner(verbosity=2)\n",
    "runner.run(suite)"
   ]
  },
  {
   "source": [
    "# 2. Write a function & tests"
   ],
   "cell_type": "markdown",
   "metadata": {}
  },
  {
   "cell_type": "code",
   "execution_count": 3,
   "metadata": {},
   "outputs": [],
   "source": [
    "def calc_largest_loss(prices):\n",
    "    \"\"\"\n",
    "    Returns the largest possible loss a client could have\n",
    "    made with only a buy transaction followed by a sell\n",
    "    transaction.\n",
    "    \"\"\"\n",
    "    if not isinstance(prices, list):\n",
    "        raise TypeError(\"Only lists accepted\")\n",
    "    if len(prices) < 2:\n",
    "        raise ValueError(\"At least 2 prices are needed\")\n",
    "\n",
    "    min_price, max_price = min(prices), max(prices)\n",
    "\n",
    "    if min_price < 0:\n",
    "        raise ValueError(\"Only positive numbers accepted\")\n",
    "    \n",
    "    return max_price - min_price"
   ]
  },
  {
   "cell_type": "code",
   "execution_count": 4,
   "metadata": {
    "tags": []
   },
   "outputs": [
    {
     "output_type": "stream",
     "name": "stderr",
     "text": [
      "test_duplicates (__main__.TestCalcLargestLoss) ... ok\n",
      "test_low_prices (__main__.TestCalcLargestLoss) ... ok\n",
      "test_negative_price (__main__.TestCalcLargestLoss) ... ok\n",
      "test_no_diff (__main__.TestCalcLargestLoss) ... ok\n",
      "test_no_prices (__main__.TestCalcLargestLoss) ... ok\n",
      "test_not_list (__main__.TestCalcLargestLoss) ... ok\n",
      "test_not_number (__main__.TestCalcLargestLoss) ... ok\n",
      "test_one_buy_no_sell (__main__.TestCalcLargestLoss) ... ok\n",
      "test_very_large_loss (__main__.TestCalcLargestLoss) ... ok\n",
      "\n",
      "----------------------------------------------------------------------\n",
      "Ran 9 tests in 0.026s\n",
      "\n",
      "OK\n"
     ]
    },
    {
     "output_type": "execute_result",
     "data": {
      "text/plain": [
       "<unittest.runner.TextTestResult run=9 errors=0 failures=0>"
      ]
     },
     "metadata": {},
     "execution_count": 4
    }
   ],
   "source": [
    "import unittest\n",
    "\n",
    "class TestCalcLargestLoss(unittest.TestCase):\n",
    "    def test_duplicates(self):\n",
    "        prices = [10, 15] * 2\n",
    "        largest_loss = calc_largest_loss(prices)\n",
    "        self.assertEqual(largest_loss, 5)\n",
    "\n",
    "    def test_one_buy_no_sell(self):\n",
    "        with self.assertRaises(ValueError):\n",
    "            calc_largest_loss([10.5])\n",
    "\n",
    "    def test_low_prices(self):\n",
    "        prices = [0.01, 0.02]\n",
    "        largest_loss = calc_largest_loss(prices)\n",
    "        self.assertEqual(largest_loss, 0.01)\n",
    "\n",
    "    def test_not_list(self):\n",
    "        with self.assertRaises(TypeError):\n",
    "            calc_largest_loss({})\n",
    "\n",
    "    def test_not_number(self):\n",
    "        with self.assertRaises(TypeError):\n",
    "            calc_largest_loss([0.01, \"0.02\"])\n",
    "\n",
    "    def test_negative_price(self):\n",
    "        prices = [0.01, -0.02]\n",
    "        with self.assertRaises(ValueError):\n",
    "            calc_largest_loss(prices)\n",
    "\n",
    "    def test_no_prices(self):\n",
    "        with self.assertRaises(ValueError):\n",
    "            calc_largest_loss([])\n",
    "\n",
    "    def test_no_diff(self):\n",
    "        prices = [0.01, 0.01]\n",
    "        largest_loss = calc_largest_loss(prices)\n",
    "        self.assertEqual(largest_loss, 0)\n",
    "\n",
    "    def test_very_large_loss(self):\n",
    "        prices = [0.01, 1e12 + 0.02, 0.02, 1e11 + 0.02]\n",
    "        largest_loss = calc_largest_loss(prices)\n",
    "        self.assertEqual(largest_loss, 1e12 + 0.01)\n",
    "\n",
    "suite = unittest.TestLoader().loadTestsFromTestCase(TestCalcLargestLoss)\n",
    "runner = unittest.TextTestRunner(verbosity=2)\n",
    "runner.run(suite)"
   ]
  },
  {
   "source": [
    "# 3. Design a set of classes"
   ],
   "cell_type": "markdown",
   "metadata": {}
  },
  {
   "cell_type": "code",
   "execution_count": 5,
   "metadata": {},
   "outputs": [],
   "source": [
    "import datetime\n",
    "\n",
    "class SQL:\n",
    "    \"\"\"\n",
    "    Class used as a Descriptor to get the raw SQL\n",
    "    cf. https://docs.python.org/3/howto/descriptor.html\n",
    "    \"\"\"\n",
    "    def __get__(self, obj, objtype=None):\n",
    "        clauses = self._format_filters(obj.filters, obj._operators)\n",
    "        return f\"\"\"SELECT * FROM MyTable{clauses};\"\"\"\n",
    "\n",
    "    @staticmethod\n",
    "    def _format_value(value):\n",
    "        if isinstance(value, (str, datetime.date)):\n",
    "            value = f\"\\'{value}\\'\"\n",
    "        return value\n",
    "\n",
    "    def _format_filters(self, filters, operators):\n",
    "        if not len(filters):\n",
    "            return \"\"\n",
    "\n",
    "        # map operator name to the method\n",
    "        mapping = {o: getattr(SQL, f\"_{o}\") for o in operators}\n",
    "        clauses = [mapping[operator](field, value) for field, operator, value in filters]\n",
    "        return \" WHERE \" + \" AND \".join(clauses)\n",
    "\n",
    "    @staticmethod\n",
    "    def _in(field, value):\n",
    "        return f\"{field} IN {tuple(value)}\"\n",
    "\n",
    "    @staticmethod\n",
    "    def _notin(field, value):\n",
    "        return f\"{field} NOT IN {tuple(value)}\"\n",
    "\n",
    "    @staticmethod\n",
    "    def _eq(field, value):\n",
    "        return f\"{field} = {SQL._format_value(value)}\"\n",
    "\n",
    "    @staticmethod\n",
    "    def _lt(field, value):\n",
    "        return f\"{field} < {SQL._format_value(value)}\"\n",
    "\n",
    "    @staticmethod\n",
    "    def _gt(field, value):\n",
    "        return f\"{field} > {SQL._format_value(value)}\"\n",
    "\n",
    "class Query:\n",
    "    _operators = [\"in\", \"notin\", \"eq\", \"lt\", \"gt\"]\n",
    "    _fields = [\"id\", \"url\", \"date\", \"rating\"]\n",
    "    # Descriptor\n",
    "    sql = SQL()\n",
    "\n",
    "    def __init__(self):\n",
    "        self.filters = []\n",
    "\n",
    "    def __str__(self):\n",
    "        return self.sql\n",
    "\n",
    "    def filter(self, **criterion):\n",
    "        for k, v in criterion.items():\n",
    "            field, operator = k.split(\"__\")\n",
    "            if operator not in self._operators:\n",
    "                raise ValueError(f\"Available operators: {self._operators}\")\n",
    "            if field not in self._fields:\n",
    "                raise ValueError(f\"Available fields: {self._fields}\")\n",
    "            if operator.endswith(\"in\") and not isinstance(v, (list, tuple, set)):\n",
    "                raise ValueError(\"Value must be a list, a tuple or a set\")\n",
    "            self.filters.append((field, operator, v))    \n",
    "        return self\n",
    "\n",
    "class MyTable(Query):\n",
    "    id = 0\n",
    "    url = \"\"\n",
    "    date = \"\"\n",
    "    rating = 0\n"
   ]
  },
  {
   "cell_type": "code",
   "execution_count": 6,
   "metadata": {},
   "outputs": [
    {
     "output_type": "stream",
     "name": "stderr",
     "text": [
      "test_chained_query (__main__.TestQuery) ... ok\n",
      "test_eq (__main__.TestQuery) ... ok\n",
      "test_gt (__main__.TestQuery) ... ok\n",
      "test_in (__main__.TestQuery) ... ok\n",
      "test_lt (__main__.TestQuery) ... ok\n",
      "test_not_in (__main__.TestQuery) ... ok\n",
      "test_wrong_field (__main__.TestQuery) ... ok\n",
      "test_wrong_method (__main__.TestQuery) ... ok\n",
      "\n",
      "----------------------------------------------------------------------\n",
      "Ran 8 tests in 0.016s\n",
      "\n",
      "OK\n"
     ]
    },
    {
     "output_type": "execute_result",
     "data": {
      "text/plain": [
       "<unittest.runner.TextTestResult run=8 errors=0 failures=0>"
      ]
     },
     "metadata": {},
     "execution_count": 6
    }
   ],
   "source": [
    "import unittest\n",
    "\n",
    "\n",
    "class TestQuery(unittest.TestCase):\n",
    "    def test_wrong_field(self):\n",
    "        with self.assertRaises(ValueError):\n",
    "            MyTable().filter(job__in=[1])\n",
    "\n",
    "    def test_wrong_method(self):\n",
    "        with self.assertRaises(ValueError):\n",
    "            MyTable().filter(id__ig=[1])\n",
    "\n",
    "    def test_in(self):\n",
    "        sql = \"SELECT * FROM MyTable WHERE id IN (1, 2);\"\n",
    "        q = MyTable().filter(id__in=[1, 2]).sql\n",
    "        self.assertEqual(q, sql)\n",
    "\n",
    "        with self.assertRaises(ValueError):\n",
    "            MyTable().filter(id__in=\"wrong\")\n",
    "\n",
    "    def test_not_in(self):\n",
    "        sql = \"SELECT * FROM MyTable WHERE id NOT IN (1, 2);\"\n",
    "        q = MyTable().filter(id__notin=[1, 2]).sql\n",
    "        self.assertEqual(q, sql)\n",
    "\n",
    "        with self.assertRaises(ValueError):\n",
    "            MyTable().filter(id__notin=\"wrong\")\n",
    "\n",
    "    def test_eq(self):\n",
    "        q1 = MyTable().filter(id__eq=1).sql\n",
    "        q2 = MyTable().filter(date__eq=\"2020-28-11\").sql\n",
    "        q3 = MyTable().filter(url__eq=\"https://test.com\").sql\n",
    "        q4 = MyTable().filter(rating__eq=3.5).sql\n",
    "        self.assertEqual(q1, \"SELECT * FROM MyTable WHERE id = 1;\")\n",
    "        self.assertEqual(q2, \"SELECT * FROM MyTable WHERE date = '2020-28-11';\")\n",
    "        self.assertEqual(q3, \"SELECT * FROM MyTable WHERE url = 'https://test.com';\")\n",
    "        self.assertEqual(q4, \"SELECT * FROM MyTable WHERE rating = 3.5;\")\n",
    "\n",
    "    def test_lt(self):\n",
    "        q1 = MyTable().filter(date__lt=\"2020-28-11\").sql\n",
    "        q2 = MyTable().filter(rating__lt=1.4).sql\n",
    "        self.assertEqual(q1, \"SELECT * FROM MyTable WHERE date < '2020-28-11';\")\n",
    "        self.assertEqual(q2, \"SELECT * FROM MyTable WHERE rating < 1.4;\")\n",
    "\n",
    "    def test_gt(self):\n",
    "        q1 = MyTable().filter(date__gt=\"2020-28-11\").sql\n",
    "        q2 = MyTable().filter(id__gt=3).sql\n",
    "        self.assertEqual(q1, \"SELECT * FROM MyTable WHERE date > '2020-28-11';\")\n",
    "        self.assertEqual(q2, \"SELECT * FROM MyTable WHERE id > 3;\")\n",
    "\n",
    "    def test_chained_query(self):\n",
    "        q = (\n",
    "            MyTable()\n",
    "            .filter(id__notin=[1, 7], url__eq=\"https://test.com\", date__lt=\"2020-28-11\")\n",
    "            .filter(rating__gt=2)\n",
    "            .sql\n",
    "        )\n",
    "        self.assertEqual(\n",
    "            q,\n",
    "            \"SELECT * FROM MyTable WHERE id NOT IN (1, 7) AND url = 'https://test.com' AND date < '2020-28-11' AND rating > 2;\",\n",
    "        )\n",
    "\n",
    "\n",
    "suite = unittest.TestLoader().loadTestsFromTestCase(TestQuery)\n",
    "runner = unittest.TextTestRunner(verbosity=2)\n",
    "runner.run(suite)\n"
   ]
  },
  {
   "cell_type": "code",
   "execution_count": null,
   "metadata": {},
   "outputs": [],
   "source": []
  }
 ]
}